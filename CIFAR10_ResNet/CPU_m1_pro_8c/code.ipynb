{
 "cells": [
  {
   "cell_type": "code",
   "execution_count": 1,
   "id": "c287a685",
   "metadata": {},
   "outputs": [
    {
     "data": {
      "text/plain": [
       "<torch._C.Generator at 0x10b2603b0>"
      ]
     },
     "execution_count": 1,
     "metadata": {},
     "output_type": "execute_result"
    }
   ],
   "source": [
    "import time\n",
    "\n",
    "import torch\n",
    "import torch.nn as nn\n",
    "import torch.nn.functional as F\n",
    "import torch.optim as optim\n",
    "import torchvision\n",
    "import torchvision.transforms as transforms\n",
    "from torchvision.models import resnet50\n",
    "\n",
    "torch.manual_seed(42)"
   ]
  },
  {
   "cell_type": "code",
   "execution_count": 2,
   "id": "fcfe85aa",
   "metadata": {},
   "outputs": [],
   "source": [
    "# Device Configure\n",
    "device = torch.device('cpu') # m1 CPU"
   ]
  },
  {
   "cell_type": "code",
   "execution_count": 3,
   "id": "d0039c9e",
   "metadata": {},
   "outputs": [],
   "source": [
    "batch_size = 512\n",
    "num_workers = 4"
   ]
  },
  {
   "cell_type": "code",
   "execution_count": 4,
   "id": "de2c91d1",
   "metadata": {},
   "outputs": [
    {
     "name": "stdout",
     "output_type": "stream",
     "text": [
      "Files already downloaded and verified\n",
      "Files already downloaded and verified\n"
     ]
    }
   ],
   "source": [
    "# Dataset\n",
    "transform = transforms.Compose(\n",
    "    [transforms.ToTensor(),\n",
    "     transforms.Normalize((0.5, 0.5, 0.5), (0.5, 0.5, 0.5))])\n",
    "trainset = torchvision.datasets.CIFAR10(root='../../data', train=True,\n",
    "                                        download=True, transform=transform)\n",
    "trainloader = torch.utils.data.DataLoader(trainset, batch_size=batch_size,\n",
    "                                          shuffle=True, num_workers=num_workers)\n",
    "\n",
    "testset = torchvision.datasets.CIFAR10(root='../../data', train=False,\n",
    "                                       download=True, transform=transform)\n",
    "testloader = torch.utils.data.DataLoader(testset, batch_size=batch_size,\n",
    "                                         shuffle=False, num_workers=num_workers)"
   ]
  },
  {
   "cell_type": "code",
   "execution_count": 5,
   "id": "76b5d9b6",
   "metadata": {},
   "outputs": [],
   "source": [
    "# Model\n",
    "net = resnet50(pretrained=False).to(device)"
   ]
  },
  {
   "cell_type": "code",
   "execution_count": 6,
   "id": "48a982f3",
   "metadata": {},
   "outputs": [],
   "source": [
    "# Optimizer\n",
    "criterion = nn.CrossEntropyLoss()\n",
    "optimizer = optim.SGD(net.parameters(), lr=0.001, momentum=0.9)"
   ]
  },
  {
   "cell_type": "code",
   "execution_count": 7,
   "id": "b7bcf91a",
   "metadata": {},
   "outputs": [],
   "source": [
    "def train_engine(epochs=10):\n",
    "    net.train()\n",
    "    \n",
    "    total_time = time.time()\n",
    "    for epoch in range(epochs):  # loop over the dataset multiple times\n",
    "        \n",
    "        correct, total = 0, 0\n",
    "        running_loss = 0.0\n",
    "        start_time = time.time()\n",
    "        \n",
    "        for i, data in enumerate(trainloader, 0):\n",
    "            # get the inputs; data is a list of [inputs, labels]\n",
    "            inputs, labels = data[0].to(device), data[1].to(device)\n",
    "        \n",
    "            # zero the parameter gradients\n",
    "            optimizer.zero_grad()\n",
    "\n",
    "            # forward + backward + optimize\n",
    "            outputs = net(inputs)\n",
    "            loss = criterion(outputs, labels)\n",
    "            loss.backward()\n",
    "            optimizer.step()\n",
    "\n",
    "            # statistics\n",
    "            _, predicted = torch.max(outputs.data, 1)\n",
    "            total += labels.size(0)\n",
    "            correct += (predicted == labels).sum().item()\n",
    "            running_loss += loss.item()\n",
    "        \n",
    "        print(f'Epoch {epoch+1}: takes {(time.time() - start_time):.2f} seconds, loss: {(running_loss / (i+1)):.3f}, acc: {(correct/total*100):.2f}%')\n",
    "    \n",
    "    total_time = time.time() - total_time\n",
    "    print(f'Finished training in {total_time:.2f} seconds; Avg: {(total_time/epochs):.2f} seconds')\n",
    "    \n",
    "    net.eval()\n",
    "    correct, total = 0, 0\n",
    "    with torch.no_grad():\n",
    "        for data in testloader:\n",
    "            images, labels = data[0].to(device), data[1].to(device)\n",
    "            # calculate outputs by running images through the network\n",
    "            outputs = net(images)\n",
    "            # the class with the highest energy is what we choose as prediction\n",
    "            _, predicted = torch.max(outputs.data, 1)\n",
    "            total += labels.size(0)\n",
    "            correct += (predicted == labels).sum().item()\n",
    "            \n",
    "    print(f'Test accuracy:{(correct/total*100):.2f}%')"
   ]
  },
  {
   "cell_type": "code",
   "execution_count": 8,
   "id": "485079e0",
   "metadata": {},
   "outputs": [
    {
     "name": "stdout",
     "output_type": "stream",
     "text": [
      "Epoch 1: takes 233.25 seconds, loss: 2.634, acc: 13.48%\n",
      "Epoch 2: takes 237.92 seconds, loss: 2.138, acc: 21.25%\n",
      "Epoch 3: takes 240.12 seconds, loss: 1.976, acc: 27.28%\n",
      "Epoch 4: takes 231.39 seconds, loss: 1.853, acc: 31.81%\n",
      "Epoch 5: takes 230.86 seconds, loss: 1.750, acc: 35.96%\n",
      "Epoch 6: takes 231.92 seconds, loss: 1.664, acc: 39.02%\n",
      "Epoch 7: takes 230.84 seconds, loss: 1.584, acc: 42.22%\n",
      "Epoch 8: takes 230.72 seconds, loss: 1.507, acc: 45.26%\n",
      "Epoch 9: takes 232.54 seconds, loss: 1.437, acc: 48.08%\n",
      "Epoch 10: takes 232.06 seconds, loss: 1.360, acc: 51.10%\n",
      "Epoch 11: takes 231.42 seconds, loss: 1.286, acc: 53.82%\n",
      "Epoch 12: takes 232.25 seconds, loss: 1.211, acc: 56.48%\n",
      "Epoch 13: takes 232.97 seconds, loss: 1.139, acc: 59.46%\n",
      "Epoch 14: takes 232.01 seconds, loss: 1.059, acc: 62.42%\n",
      "Epoch 15: takes 232.37 seconds, loss: 0.979, acc: 65.19%\n",
      "Epoch 16: takes 230.21 seconds, loss: 0.889, acc: 68.84%\n",
      "Epoch 17: takes 231.74 seconds, loss: 0.827, acc: 70.89%\n",
      "Epoch 18: takes 240.29 seconds, loss: 0.749, acc: 73.66%\n",
      "Epoch 19: takes 235.98 seconds, loss: 0.675, acc: 76.47%\n",
      "Epoch 20: takes 230.45 seconds, loss: 0.610, acc: 78.95%\n",
      "Finished training in 4661.34 seconds; Avg: 233.07 seconds\n",
      "Test accuracy:45.88%\n"
     ]
    }
   ],
   "source": [
    "# train\n",
    "train_engine(epochs = 20)"
   ]
  }
 ],
 "metadata": {
  "kernelspec": {
   "display_name": "Python 3 (ipykernel)",
   "language": "python",
   "name": "python3"
  },
  "language_info": {
   "codemirror_mode": {
    "name": "ipython",
    "version": 3
   },
   "file_extension": ".py",
   "mimetype": "text/x-python",
   "name": "python",
   "nbconvert_exporter": "python",
   "pygments_lexer": "ipython3",
   "version": "3.10.4"
  }
 },
 "nbformat": 4,
 "nbformat_minor": 5
}
